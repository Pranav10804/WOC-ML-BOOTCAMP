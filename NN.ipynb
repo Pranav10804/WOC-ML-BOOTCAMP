{
  "nbformat": 4,
  "nbformat_minor": 0,
  "metadata": {
    "colab": {
      "provenance": []
    },
    "kernelspec": {
      "name": "python3",
      "display_name": "Python 3"
    },
    "language_info": {
      "name": "python"
    },
    "gpuClass": "standard"
  },
  "cells": [
    {
      "cell_type": "code",
      "execution_count": 2,
      "metadata": {
        "id": "4_eCxMbbKwEd"
      },
      "outputs": [],
      "source": [
        "import numpy as np \n",
        "import pandas as pd  \n",
        "import matplotlib.pyplot as plt  "
      ]
    },
    {
      "cell_type": "code",
      "source": [
        "from google.colab import drive  \n",
        "drive.mount('/content/drive/') "
      ],
      "metadata": {
        "id": "Pgs3KZ4_kMwa",
        "colab": {
          "base_uri": "https://localhost:8080/"
        },
        "outputId": "d7134b2c-570a-4f88-c1bb-fd98270050b4"
      },
      "execution_count": 3,
      "outputs": [
        {
          "output_type": "stream",
          "name": "stdout",
          "text": [
            "Mounted at /content/drive/\n"
          ]
        }
      ]
    },
    {
      "cell_type": "code",
      "source": [
        "data_train=pd.read_csv('/content/drive/MyDrive/Data Set/classification_train.csv')  \n",
        "data_test=pd.read_csv('/content/drive/MyDrive/Data Set/classification_test.csv')  \n",
        "y0=np.array(data_train[['label']]) \n",
        "x0=np.array(data_train.iloc[:, 2:]) \n",
        "x_pred=np.array(data_test.iloc[:, 1:]) \n",
        "choice = np.random.choice(range(x0.shape[0]), size=(25000,), replace=False)     \n",
        "ind = np.zeros(x0.shape[0], dtype=bool) \n",
        "ind[choice] = True \n",
        "rest = ~ind \n",
        "x=x0[ind, :] \n",
        "x_test=x0[rest, :] \n",
        "y=y0[ind] \n",
        "y_test=y0[rest] \n",
        "print(x_test.shape,y.shape) "
      ],
      "metadata": {
        "id": "0hl7kA9BkUcp",
        "colab": {
          "base_uri": "https://localhost:8080/"
        },
        "outputId": "29833f7e-e7ad-435b-cccf-b76c70023824"
      },
      "execution_count": 4,
      "outputs": [
        {
          "output_type": "stream",
          "name": "stdout",
          "text": [
            "(5000, 784) (25000, 1)\n"
          ]
        }
      ]
    },
    {
      "cell_type": "code",
      "source": [
        "def relu(Z, derivative): \n",
        "  if derivative: \n",
        "    Z[Z<=0]=0\n",
        "    Z[Z>0]=1\n",
        "    return Z\n",
        "  Z=Z*(Z>0)\n",
        "  return Z"
      ],
      "metadata": {
        "id": "ByoPNjMHlaVY"
      },
      "execution_count": 5,
      "outputs": []
    },
    {
      "cell_type": "code",
      "source": [
        "def sigmoid(Z):\n",
        "  return 1/(np.exp(-Z)+1)"
      ],
      "metadata": {
        "id": "OCaD3TBXl0so"
      },
      "execution_count": 6,
      "outputs": []
    },
    {
      "cell_type": "code",
      "source": [
        "def softmax(Z):\n",
        "  exps = np.exp(Z-Z.max())  ##Making the softmax function numerically stable\n",
        "  a=np.sum(exps, axis=-1).reshape(Z.shape[0], 1)\n",
        "  p_i= exps /a\n",
        "  return p_i"
      ],
      "metadata": {
        "id": "T4QvDqXXqy0f"
      },
      "execution_count": 7,
      "outputs": []
    },
    {
      "cell_type": "code",
      "source": [
        "def dense(A, W, b, activation):\n",
        "  Z=A.T.dot(W) + b\n",
        "  y_hat=np.zeros_like(Z)\n",
        "  if activation==\"linear\":\n",
        "    y_hat=Z\n",
        "  elif activation==\"relu\":\n",
        "    y_hat=relu(Z, derivative=False)\n",
        "  elif activation==\"sigmoid\":\n",
        "    y_hat=sigmoid(Z)\n",
        "  return y_hat, Z"
      ],
      "metadata": {
        "id": "qmsf7gXqnrOg"
      },
      "execution_count": 8,
      "outputs": []
    },
    {
      "cell_type": "code",
      "source": [
        "def cost(p, y):\n",
        "  loss=np.sum(np.multiply(p, y), axis=-1)\n",
        "  J=-np.sum(np.log(loss))\n",
        "  return J/len(y)"
      ],
      "metadata": {
        "id": "LLhn4OAygGdT"
      },
      "execution_count": 9,
      "outputs": []
    },
    {
      "cell_type": "code",
      "source": [
        "def normalized(x):\n",
        "  m1=np.mean(x, axis=0)\n",
        "  sig1=np.std(x, axis=0)\n",
        "  sig1[sig1==0]=1 ##To avoid division by zero\n",
        "  return (x-m1)/(sig1)"
      ],
      "metadata": {
        "id": "Nxlf5_iG6GQq"
      },
      "execution_count": 10,
      "outputs": []
    },
    {
      "cell_type": "code",
      "source": [
        "def one_hot(y):\n",
        "  b=np.zeros((len(y), 10))\n",
        "  for i in range(len(y)): #one-hot encoding y in b\n",
        "    b[i, y[i]]=1\n",
        "  return b\n"
      ],
      "metadata": {
        "id": "pXihk_Nvid_I"
      },
      "execution_count": 11,
      "outputs": []
    },
    {
      "cell_type": "code",
      "source": [
        "def gen_layers(n, x, W, B):\n",
        "  A={}\n",
        "  Z={}\n",
        "  A[\"0\"]=x\n",
        "  for i in range(n):                      \n",
        "    A[str(i+1)], Z[str(i+1)]=dense(normalized(A[str(i)].T), W[str(i+1)], B[str(i+1)], \"relu\")\n",
        "  return A, Z"
      ],
      "metadata": {
        "id": "7Xn5YBctsO-W"
      },
      "execution_count": 12,
      "outputs": []
    },
    {
      "cell_type": "code",
      "source": [
        "def gradients(W, B, A, Z, y_hat, y, n):\n",
        "  dJ_dW={}\n",
        "  dJ_db={}\n",
        "  y_o=one_hot(y)\n",
        "  dJ_dZ=y_hat-y_o\n",
        "  dJ_dW[str(n)]=A[str(n)].T.dot(dJ_dZ)\n",
        "  temp=dJ_dZ\n",
        "  dJ_dW[str(n)]=(A[str(n-1)].T).dot(temp*relu(Z[str(n)], derivative=True))\n",
        "  dJ_db[str(n)]=np.sum(relu(Z[str(n)], derivative=True)*temp, axis=0)\n",
        "  for i in range(1, n):\n",
        "    temp=temp.dot(W[str(n-i+1)].T)\n",
        "    \"\"\"dJ_dW[str(n-i)]=np.dot((np.multiply(A[str(n-i-1)], temp)), relu(A[str(n-i-1)], derivative=True))\"\"\"\n",
        "    dJ_db[str(n-i)]=np.sum(temp*relu(Z[str(n-i)], derivative=True), axis=0) \n",
        "    dJ_dW[str(n-i)]=np.multiply(relu(Z[str(n-i)], derivative=True), temp)\n",
        "    dJ_dW[str(n-i)]=(A[str(n-i-1)].T).dot(dJ_dW[str(n-i)])\n",
        "  return dJ_dW, dJ_db\n"
      ],
      "metadata": {
        "id": "24Tcn-yCx3-D"
      },
      "execution_count": 13,
      "outputs": []
    },
    {
      "cell_type": "code",
      "source": [
        "def grad_descent(alpha, W, B, y, n, iterate_n, l):\n",
        "  m=x.shape[0]\n",
        "  J_list=np.ones(iterate_n)*3.5\n",
        "  k=np.zeros(iterate_n)\n",
        "  A, Z=gen_layers(n, normalized(x), W, B)\n",
        "  y_o=one_hot(y)\n",
        "  for i in range(iterate_n):\n",
        "    A, Z=gen_layers(n, normalized(x), W, B)\n",
        "    p_i=softmax(normalized(A[str(n)]))\n",
        "    dJ_dW, dJ_db=gradients(W, B, A, Z, p_i, y, n)\n",
        "    for j in range(n):\n",
        "      W[str(j+1)]= W[str(j+1)]- alpha *dJ_dW[str(j+1)]\n",
        "      B[str(j+1)]=B[str(j+1)] - alpha*dJ_db[str(j+1)]\n",
        "    J=cost(p_i, y_o)\n",
        "    if J_list[i-1]<J:\n",
        "      p=i\n",
        "      break\n",
        "    else:\n",
        "      p=i\n",
        "\n",
        "    J_list[i]=J\n",
        "    k[i]=i\n",
        "    print(\"cost\", J)\n",
        "  J_pl=J_list[:p]\n",
        "  k=k[:p]\n",
        "  plt.plot(k, J_pl , 'k')\n",
        "  plt.show()\n",
        "  return W, B\n"
      ],
      "metadata": {
        "id": "P4XZ8d4zeIoB"
      },
      "execution_count": 14,
      "outputs": []
    },
    {
      "cell_type": "code",
      "source": [
        "\n",
        "  n=input(\"Enter no. of hidden layers:\")\n",
        "  n=int(n)\n",
        "  m,f=x.shape \n",
        "  N=np.zeros(n+1, dtype=int)\n",
        "  N[0]=f\n",
        "  for i in range(1, n+1):\n",
        "    N[i]=input(\"Enter no. of activations in layer: \")\n",
        "  W={}\n",
        "  B={}\n",
        "  for i in range(n):\n",
        "    std=np.sqrt(2.0/N[i+1])          \n",
        "    W[str(i+1)]=np.random.rand(N[i], N[i+1])*std\n",
        "    W[str(i+1)]=np.array(W[str(i+1)])\n",
        "    B[str(i+1)]=np.random.rand(1, N[i+1])*std\n",
        "  error=0\n",
        "  A_test={}\n",
        "  Z_test={}\n",
        "  W, B=grad_descent(0.000001, W, B, y, n, 50, 0)\n",
        "  A, Z=gen_layers(n, normalized(x), W, B)\n",
        "  p_i=softmax(normalized(A[str(n)]))\n",
        "  p_train=one_hot(np.argmax(p_i, axis=-1))\n",
        "  y_o=one_hot(y)\n",
        "  tp=0\n",
        "  fp=0\n",
        "  for j in range(10):\n",
        "    for i in range(x.shape[0]):\n",
        "      if y_o[i, j]==1:\n",
        "        if p_train[i, j]==y_o[i, j]:\n",
        "          tp+=1\n",
        "        else:\n",
        "          fp+=1\n",
        "  print(\"Training\", tp/(tp+fp))\n",
        "  error=0\n",
        "  A_test, Z_test=gen_layers(n, normalized(x_test), W, B)  \n",
        "  p_test= softmax(normalized(A_test[str(n)]))\n",
        "  print(cost(p_test, one_hot(y_test)))\n",
        "  p=one_hot(np.argmax(p_test, axis=-1))\n",
        "  y_o2= one_hot(y_test)\n",
        "  print(p_test)\n",
        "  tp=0\n",
        "  fp=0\n",
        "  for j in range(10):\n",
        "    for i in range(x_test.shape[0]):\n",
        "      if y_o2[i, j]==1:\n",
        "        if p[i, j]==y_o2[i, j]:\n",
        "          tp+=1\n",
        "        else:\n",
        "          fp+=1\n",
        "  print(\"Testing\",\n",
        "        tp/(tp+fp))\n",
        "  Apred={}\n",
        "  Z=pred={}\n",
        "  A_pred, Z_pred=gen_layers(n, normalized(x_pred), W, B)  \n",
        "  p_pred= softmax(normalized(A_pred[str(n)]))\n",
        "  predictions=np.argmax(p_pred, axis=-1)\n",
        "  Predictions=data_test.drop(data_test.columns[[i for i in range(1,785)]], axis=1)\n",
        "  Predictions['Predicted']=predictions\n",
        "  print(Predictions)\n",
        "  Predictions.to_csv('/content/drive/MyDrive/Data Set/nn_predictions.csv', index=False)\n"
      ],
      "metadata": {
        "id": "YJ14-Zan3Pzs"
      },
      "execution_count": null,
      "outputs": []
    }
  ]
}