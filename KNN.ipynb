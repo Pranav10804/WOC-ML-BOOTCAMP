{
  "cells": [
    {
      "cell_type": "code",
      "execution_count": 1,
      "metadata": {
        "id": "sxOJ34zd5tT4"
      },
      "outputs": [],
      "source": [
        "import numpy as np\n",
        "import pandas as pd\n",
        "import matplotlib.pyplot as plt"
      ]
    },
    {
      "cell_type": "code",
      "execution_count": 2,
      "metadata": {
        "colab": {
          "base_uri": "https://localhost:8080/"
        },
        "id": "LfjjIoW-zT6C",
        "outputId": "d677b5ea-6362-4f5c-c746-6ddadbfe25f4"
      },
      "outputs": [
        {
          "output_type": "stream",
          "name": "stdout",
          "text": [
            "Mounted at /content/drive/\n"
          ]
        }
      ],
      "source": [
        "from google.colab import drive \n",
        "drive.mount('/content/drive/')"
      ]
    },
    {
      "cell_type": "code",
      "execution_count": 3,
      "metadata": {
        "colab": {
          "base_uri": "https://localhost:8080/"
        },
        "id": "Xk6v4iG4wLUl",
        "outputId": "e068a403-bb1e-413c-ded6-06536a469e23"
      },
      "outputs": [
        {
          "output_type": "stream",
          "name": "stdout",
          "text": [
            "(5000, 784)\n",
            "[0 1 2 3 4 5 6 7 8 9]\n"
          ]
        }
      ],
      "source": [
        "data_train=pd.read_csv('/content/drive/MyDrive/Data Set/classification_train.csv')\n",
        "data_test=pd.read_csv('/content/drive/MyDrive/Data Set/classification_test.csv')\n",
        "y0=np.array(data_train[['label']])\n",
        "x0=np.array(data_train.iloc[:, 2:])\n",
        "x_test=np.array(data_test.iloc[:, 1:])\n",
        "\"\"\"choice = np.random.choice(range(x0.shape[0]), size=(25000,), replace=False)    \n",
        "ind = np.zeros(x0.shape[0], dtype=bool)\n",
        "ind[choice] = True\n",
        "rest = ~ind\n",
        "x=x0[ind, :]\n",
        "x_test=x0[rest, :]\n",
        "y=y0[ind]\n",
        "y_test=y0[rest]\n",
        "print(np.shape(x_test))\n",
        "print(np.unique(y))\"\"\""
      ]
    },
    {
      "cell_type": "code",
      "source": [
        "def s(b, a):\n",
        "  c=np.sum(b)+a"
      ],
      "metadata": {
        "id": "oRLEcd0Rgclt"
      },
      "execution_count": 4,
      "outputs": []
    },
    {
      "cell_type": "code",
      "execution_count": 5,
      "metadata": {
        "id": "aMLA3sevwdnS"
      },
      "outputs": [],
      "source": [
        "def distance(x_test, x):\n",
        "  d=np.zeros(x.shape[0], dtype=float)\n",
        "  a=np.sum(x**2, axis=-1)\n",
        "  a=a[:, np.newaxis]\n",
        "  b=np.sum(x_test**2, axis=-1)\n",
        "  temp=a + b - 2 * x.dot(x_test.T)\n",
        "  print(temp.shape)\n",
        "  d=np.sqrt(temp)\n",
        "  return d\n"
      ]
    },
    {
      "cell_type": "code",
      "source": [
        "def one_hot(y):\n",
        "  y_o=np.zeros((len(y), 10))\n",
        "  for k in range(len(y)):\n",
        "    y_o[ k, int(y[k])]=1\n",
        "  return y_o\n"
      ],
      "metadata": {
        "id": "ap2A1R1siQcW"
      },
      "execution_count": 6,
      "outputs": []
    },
    {
      "cell_type": "code",
      "execution_count": null,
      "metadata": {
        "id": "quezCro60RSx"
      },
      "outputs": [],
      "source": [
        "k=input(\"Enter no. of nearest neighbours :\")\n",
        "y_hat=np.zeros(x_test.shape[0])\n",
        "d=distance(x_test, x)\n",
        "D=np.argsort(d.T, axis=-1)\n",
        "nn=y[D[:, :int(k)]]\n",
        "nn=nn.reshape(nn.shape[0], nn.shape[1])\n",
        "for i in range(x_test.shape[0]):\n",
        "  y_hat[i]=np.argmax(np.bincount(nn[i]))\n",
        "## Calculation of Precision of testing set has been commented out\n",
        "\"\"\"y_o=one_hot(y_hat)   \n",
        "y2=one_hot(y_test)\n",
        "tp=0\n",
        "fp=0\n",
        "for j in range(10):\n",
        "  for i in range(len(y_test)):\n",
        "    if y2[i, j]==1:\n",
        "      if y_o[i, j]==y2[i, j]:\n",
        "        tp+=1\n",
        "      else:\n",
        "        fp+=1\n",
        "print(tp/(tp+fp))\"\"\"\n",
        "\n",
        "Predictions=data_test.drop(data_test.columns[[i for i in range(1,785)]], axis=1)\n",
        "Predictions['Predicted']=y_hat\n",
        "print(Predictions)\n",
        "Predictions.to_csv('/content/drive/MyDrive/Data Set/knn_predictions.csv', index=False)"
      ]
    }
  ],
  "metadata": {
    "colab": {
      "provenance": []
    },
    "kernelspec": {
      "display_name": "Python 3",
      "name": "python3"
    },
    "language_info": {
      "name": "python"
    }
  },
  "nbformat": 4,
  "nbformat_minor": 0
}