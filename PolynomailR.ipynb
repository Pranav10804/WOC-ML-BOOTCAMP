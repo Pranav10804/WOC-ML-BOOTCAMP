{
  "nbformat": 4,
  "nbformat_minor": 0,
  "metadata": {
    "colab": {
      "provenance": []
    },
    "kernelspec": {
      "name": "python3",
      "display_name": "Python 3"
    },
    "language_info": {
      "name": "python"
    },
    "gpuClass": "standard"
  },
  "cells": [
    {
      "cell_type": "code",
      "source": [
        "from google.colab import drive \n",
        "drive.mount('/content/drive/')"
      ],
      "metadata": {
        "colab": {
          "base_uri": "https://localhost:8080/"
        },
        "id": "VPzwDn9K6-Gv",
        "outputId": "c6e6011c-bacc-4045-b3f3-382c3a5b5d0f"
      },
      "execution_count": 1,
      "outputs": [
        {
          "output_type": "stream",
          "name": "stdout",
          "text": [
            "Mounted at /content/drive/\n"
          ]
        }
      ]
    },
    {
      "cell_type": "code",
      "execution_count": 2,
      "metadata": {
        "id": "J6vDI_o-txKg"
      },
      "outputs": [],
      "source": [
        "import numpy as np\n",
        "import pandas as pd\n",
        "import matplotlib.pyplot as plt"
      ]
    },
    {
      "cell_type": "code",
      "source": [
        "\n",
        "data_train=pd.read_csv('/content/drive/MyDrive/Data Set/polynomial_train.csv')\n",
        "data_test=pd.read_csv('/content/drive/MyDrive/Data Set/polynomial_test_data.csv')\n",
        "y0=np.array(data_train[['label']])\n",
        "x0=np.array(data_train.iloc[:, 1:4])\n",
        "choice = np.random.choice(range(x0.shape[0]), size=(35000,), replace=False)    ##Choosing random data for training and testinng sets\n",
        "ind = np.zeros(x0.shape[0], dtype=bool)\n",
        "ind[choice] = True\n",
        "rest = ~ind\n",
        "x=x0[ind, :]\n",
        "x_test=x0[rest, :]\n",
        "y=y0[ind]\n",
        "y_test=y0[rest]\n",
        "print(np.shape(x))\n",
        "x_pred=np.array(data_test.iloc[:, 1:4])"
      ],
      "metadata": {
        "id": "GH9M8bIHt9T8",
        "colab": {
          "base_uri": "https://localhost:8080/"
        },
        "outputId": "72804eae-c345-4cb0-d467-9bed9f782994"
      },
      "execution_count": 19,
      "outputs": [
        {
          "output_type": "stream",
          "name": "stdout",
          "text": [
            "(35000, 3)\n"
          ]
        }
      ]
    },
    {
      "cell_type": "code",
      "source": [],
      "metadata": {
        "id": "Z1h8L-J0QEVX"
      },
      "execution_count": 3,
      "outputs": []
    },
    {
      "cell_type": "code",
      "source": [
        "def cost(x, y, W, l):\n",
        "  m=x.shape[0]\n",
        "  y_hat=x.dot(W)\n",
        "  err=x.dot(W)-y\n",
        "  J=(np.sum(err**2)+ np.sum(l*W**2))/(2*m)\n",
        "  return J"
      ],
      "metadata": {
        "id": "EDApSsDbcqYi"
      },
      "execution_count": 4,
      "outputs": []
    },
    {
      "cell_type": "code",
      "source": [
        "def grad(alpha, W, y, x, iterate_n, threshold, l):\n",
        "  m,n = x.shape  \n",
        "  J_history=np.zeros(iterate_n) \n",
        "  p=np.zeros(iterate_n) \n",
        "  for i in range(iterate_n):\n",
        "    gradients = x.T.dot(x.dot(W)- y) + l*W\n",
        "    W = W - (1/m) * alpha * gradients\n",
        "  \"\"\"J_history[i]=cost(x, y, W, l)\n",
        "    p[i]=i\n",
        "  plt.plot(p, J_history, 'k')\n",
        "  plt.ylabel('cost')\n",
        "  plt.xlabel('iterations')\n",
        "  plt.show()\"\"\"\n",
        "  return W\n",
        "  "
      ],
      "metadata": {
        "id": "nwj00HQ8uasn"
      },
      "execution_count": 15,
      "outputs": []
    },
    {
      "cell_type": "code",
      "source": [
        "def normalized(x):\n",
        "  m1=np.mean(x, axis=0)\n",
        "  sig1=np.std(x, axis=0)\n",
        "  return (x-m1)/(sig1)\n"
      ],
      "metadata": {
        "id": "7ZrktQXk-IQ_"
      },
      "execution_count": 6,
      "outputs": []
    },
    {
      "cell_type": "code",
      "source": [
        "def gen(x, n):\n",
        "  X=np.ones((x.shape[0], 1))\n",
        "  for i in range(1, n+1):\n",
        "    X=np.concatenate((X, normalized(x**i)), axis=-1)\n",
        "  return X\n"
      ],
      "metadata": {
        "id": "vw8OAyu8Q3KQ"
      },
      "execution_count": 7,
      "outputs": []
    },
    {
      "cell_type": "code",
      "source": [
        "x1=gen(x, 5)\n",
        "m,n=np.shape(x)\n",
        "W=np.zeros((5*n+1,1))\n",
        "W=grad(4*10e-3, W,  y, x1, 500, 10e-2, 1000)\n",
        "\n",
        "x2=gen(x_test, 5)\n",
        "y_hat=x2.dot(W)\n",
        "r=1- (np.sum((y_test-y_hat)**2)/(np.sum((y_hat-np.mean(y_test, axis=0))**2)))\n",
        "print(r)\n",
        "\n",
        "x3=gen(x_pred, 5)\n",
        "y_pred=x3.dot(W)\n",
        "\n",
        "Predictions=data_test.drop(data_test.columns[[i for i in range(1,4)]], axis=1)\n",
        "Predictions['Predicted']=y_pred\n",
        "print(Predictions)\n",
        "Predictions.to_csv('/content/drive/MyDrive/Data Set/poly_predictions.csv', index=False)"
      ],
      "metadata": {
        "id": "DX2akKBouG6J"
      },
      "execution_count": null,
      "outputs": []
    },
    {
      "cell_type": "code",
      "source": [],
      "metadata": {
        "id": "E7L60T-HN4du"
      },
      "execution_count": null,
      "outputs": []
    }
  ]
}