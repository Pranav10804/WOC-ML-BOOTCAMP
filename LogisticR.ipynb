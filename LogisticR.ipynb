{
  "nbformat": 4,
  "nbformat_minor": 0,
  "metadata": {
    "colab": {
      "provenance": []
    },
    "kernelspec": {
      "name": "python3",
      "display_name": "Python 3"
    },
    "language_info": {
      "name": "python"
    }
  },
  "cells": [
    {
      "cell_type": "code",
      "execution_count": 16,
      "metadata": {
        "id": "1z_CHOqip0kQ"
      },
      "outputs": [],
      "source": [
        "import numpy as np\n",
        "import pandas as pd\n",
        "import matplotlib.pyplot as plt"
      ]
    },
    {
      "cell_type": "code",
      "source": [
        "from google.colab import drive \n",
        "drive.mount('/content/drive/')"
      ],
      "metadata": {
        "id": "Dx0EjMTAWyfV"
      },
      "execution_count": null,
      "outputs": []
    },
    {
      "cell_type": "code",
      "source": [
        "data_train=pd.read_csv('/content/drive/MyDrive/Data Set/classification_train.csv')\n",
        "data_test=pd.read_csv('/content/drive/MyDrive/Data Set/classification_test.csv')\n",
        "y0=np.array(data_train[['label']]) \n",
        "x0=np.array(data_train.iloc[:, 2:]) \n",
        "x_pred=np.array(data_test.iloc[:, 1:])\n",
        "\n",
        "choice = np.random.choice(range(x0.shape[0]), size=(20000,), replace=False)    \n",
        "ind = np.zeros(x0.shape[0], dtype=bool)\n",
        "ind[choice] = True\n",
        "rest = ~ind\n",
        "x=x0[ind, :]\n",
        "x_test=x0[rest, :]\n",
        "y=y0[ind]\n",
        "y_test=y0[rest]\n"
      ],
      "metadata": {
        "id": "xGgiR1OYW9O-"
      },
      "execution_count": null,
      "outputs": []
    },
    {
      "cell_type": "code",
      "source": [
        "def sigmoid(z):\n",
        "  return 1/(np.exp(-z)+1)"
      ],
      "metadata": {
        "id": "NqksgEHWp9EL"
      },
      "execution_count": 19,
      "outputs": []
    },
    {
      "cell_type": "code",
      "source": [
        "def normalized(x):\n",
        "  m1=np.mean(x, axis=0)\n",
        "  sig1=np.std(x, axis=0)\n",
        "  return (x-m1)/(sig1)"
      ],
      "metadata": {
        "id": "oqm4cdDTslCT"
      },
      "execution_count": 20,
      "outputs": []
    },
    {
      "cell_type": "code",
      "source": [
        "def procedure(y, t):\n",
        "  y0=np.zeros_like(y)\n",
        "  y0[y==t]=1\n",
        "  y0[y!=t]=0\n",
        "  return y0"
      ],
      "metadata": {
        "id": "caFIf-tszshV"
      },
      "execution_count": 21,
      "outputs": []
    },
    {
      "cell_type": "code",
      "source": [
        "def cost(y, y_hat, l):\n",
        "  m=len(y)\n",
        "  J=(np.sum(-y*np.log(y_hat)-(1-y)*np.log(1-y_hat))+ np.sum(l*W**2))/(2*m)\n",
        "  return J"
      ],
      "metadata": {
        "id": "5JfnxEkJXAEN"
      },
      "execution_count": 22,
      "outputs": []
    },
    {
      "cell_type": "code",
      "source": [
        "def grad(alpha, W, y, x, iterate_n, l):\n",
        "  m,n = x.shape \n",
        "  J_list=np.zeros(iterate_n)\n",
        "  p=np.zeros(iterate_n)\n",
        "  for i in range(iterate_n):\n",
        "    z=x.dot(W)\n",
        "    y_hat=sigmoid(z)\n",
        "    gradients = x.T.dot(y_hat- y) + l*W\n",
        "    W = W - (1/m) * alpha * gradients\n",
        "    print(cost(y, y_hat, l))\n",
        "    J_list[i]=cost(y, y_hat, l)\n",
        "    p[i]=i\n",
        "  plt.plot(p, J_list, 'k')\n",
        "  plt.show()\n",
        "  return  W"
      ],
      "metadata": {
        "id": "s1GE4afGp423"
      },
      "execution_count": 23,
      "outputs": []
    },
    {
      "cell_type": "code",
      "source": [
        "\n",
        "m,n=np.shape(x)\n",
        "W=np.zeros((n+1, 10))\n",
        "x1=np.c_[np.ones(m), normalized(x)]\n",
        "y1=procedure(y, 0)\n",
        "\n",
        "for i in range(1, 10):\n",
        "  y1=np.append(y1, procedure(y, i), axis=-1)\n",
        "\n",
        "W=grad(0.04, W, y1, x1, 200, 0)\n",
        "y_train=sigmoid(x1.dot(W))\n",
        "grp=np.argmax(y_train, axis=-1)\n",
        "\n",
        "y_t=np.zeros_like(y_train)\n",
        "for k in range(len(y)):\n",
        "  y_t[k, grp[k]]=1\n",
        "tp=0\n",
        "fp=0\n",
        "for j in range(10):\n",
        "  for i in range(len(y)):\n",
        "    if y1[i, j]==1:\n",
        "      if y_t[i, j]==y1[i, j]:\n",
        "        tp+=1\n",
        "      else:\n",
        "        fp+=1\n",
        "\n",
        "print(tp/(tp+fp))\n",
        "\n",
        "x2=np.c_[np.ones(x_test.shape[0]), normalized(x_test)]\n",
        "y_hat=sigmoid(x2.dot(W))\n",
        "grp1=np.argmax(y_hat, axis=-1)\n",
        "y2=procedure(y_test, 0)\n",
        "for i in range(1, 10):\n",
        "  y2=np.append(y2, procedure(y_test, i), axis=-1)\n",
        "\n",
        "y_o=np.zeros_like(y_hat)\n",
        "for k in range(len(y_test)):\n",
        "  y_o[k, grp1[k]]=1\n",
        "tp=0\n",
        "fp=0\n",
        "for j in range(10):\n",
        "  for i in range(len(y_test)):\n",
        "    if y2[i, j]==1:\n",
        "      if y_o[i, j]==y2[i, j]:\n",
        "        tp+=1\n",
        "      else:\n",
        "        fp+=1\n",
        "print(tp/(tp+fp))\n",
        "\n",
        "x3=np.c_[np.ones(x_test.shape[0]), normalized(x_pred)]\n",
        "y_pred=sigmoid(x3.dot(W))\n",
        "grp2=np.argmax(y_hat, axis=-1)\n",
        "\n",
        "Predictions=data_test.drop(data_test.columns[[i for i in range(1,785)]], axis=1)\n",
        "Predictions['Predicted']=grp2\n",
        "Predictions.to_csv('/content/drive/MyDrive/Data Set/logistic_predictions.csv', index=False)"
      ],
      "metadata": {
        "id": "SZ1ts0uRqU1i"
      },
      "execution_count": null,
      "outputs": []
    }
  ]
}