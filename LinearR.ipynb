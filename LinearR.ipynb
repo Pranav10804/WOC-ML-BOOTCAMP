{
  "nbformat": 4,
  "nbformat_minor": 0,
  "metadata": {
    "colab": {
      "provenance": []
    },
    "kernelspec": {
      "name": "python3",
      "display_name": "Python 3"
    },
    "language_info": {
      "name": "python"
    }
  },
  "cells": [
    {
      "cell_type": "code",
      "execution_count": 1,
      "metadata": {
        "id": "Jj03RgYfTnGz"
      },
      "outputs": [],
      "source": [
        "import numpy as np\n",
        "import pandas as pd\n",
        "import matplotlib.pyplot as plt"
      ]
    },
    {
      "cell_type": "code",
      "source": [
        "from google.colab import drive \n",
        "drive.mount('/content/drive/')"
      ],
      "metadata": {
        "id": "_NVlHMpRVhx6"
      },
      "execution_count": null,
      "outputs": []
    },
    {
      "cell_type": "code",
      "source": [
        "data_train=pd.read_csv('/content/drive/MyDrive/Data Set/linear_train.csv')\n",
        "data_test=pd.read_csv('/content/drive/MyDrive/Data Set/linear_test_data.csv')\n",
        "y0=np.array(data_train[['label']])\n",
        "x0=np.array(data_train.iloc[:, 1:21])\n",
        "x_pred=np.array(data_test.iloc[:, 1:21])\n",
        "choice = np.random.choice(range(x0.shape[0]), size=(40000,), replace=False)    \n",
        "ind = np.zeros(x0.shape[0], dtype=bool)\n",
        "ind[choice] = True\n",
        "rest = ~ind\n",
        "x=x0[ind, :]\n",
        "x_test=x0[rest, :]\n",
        "y=y0[ind]\n",
        "print(np.shape(x))"
      ],
      "metadata": {
        "id": "dj0NeQKsVmCZ"
      },
      "execution_count": null,
      "outputs": []
    },
    {
      "cell_type": "code",
      "source": [
        "def grad(alpha, W, y, x, iterate_n, threshold, x1 ):\n",
        "  m,n = x.shape  \n",
        "  J_history=np.zeros(iterate_n)\n",
        "  p=np.zeros(iterate_n)\n",
        "  for i in range(iterate_n):\n",
        "    gradients = x.T.dot(x.dot(W)- y)\n",
        "    W = W - (1/m) * alpha * gradients\n",
        "    y_hat=x.dot(W)\n",
        "    err=x.dot(W)-y\n",
        "    J=np.sum(err**2/(2*m))\n",
        "    J_history[i]=J\n",
        "    p[i]=i\n",
        "  return W\n",
        "  \n",
        "  \n",
        " "
      ],
      "metadata": {
        "id": "qG_WpUlHTsyQ"
      },
      "execution_count": null,
      "outputs": []
    },
    {
      "cell_type": "code",
      "source": [
        "def normalized(x):\n",
        "  m1=np.mean(x, axis=0)\n",
        "  sig1=np.std(x, axis=0)\n",
        "  return (x-m1)/(sig1)\n"
      ],
      "metadata": {
        "id": "NbRWOKGPUY4P"
      },
      "execution_count": null,
      "outputs": []
    },
    {
      "cell_type": "code",
      "source": [
        "\n",
        "  m,n=np.shape(x)\n",
        "  X=normalized(x)\n",
        "  x1=np.c_[np.ones(m), X]\n",
        "  W=np.zeros((n+1,1))\n",
        "  W=grad(10e-3, W, y, x1, 600, 10e-2, X )\n",
        "  \n",
        "\n",
        "  \n",
        "  X_test=normalized(x_test)\n",
        "  x2=np.c_[np.ones(np.shape(x_test)[0]), X_test]\n",
        "  y_hat=x2.dot(W)\n",
        "  r=1- (np.sum((y_test-y_hat))**2/np.sum((y_hat-np.mean(y_test, axis=0))**2))\n",
        "  print(r)\n",
        "  x3=np.c_[np.ones(np.shape(x_test)[0]), normalized(x_pred)]\n",
        "  y_pred=x3.dot(W)\n",
        "  Predictions=data_test.drop(data_test.columns[[i for i in range(1,21)]], axis=1)\n",
        "  Predictions['Predicted']=y_pred\n",
        "  print(Predictions)\n",
        "  Predictions.to_csv('/content/drive/MyDrive/Data Set/linear_predictions.csv', index=False)"
      ],
      "metadata": {
        "id": "sy_Lz3-2UDrW"
      },
      "execution_count": null,
      "outputs": []
    },
    {
      "cell_type": "code",
      "source": [],
      "metadata": {
        "id": "0cS9cm0wL6Dp"
      },
      "execution_count": null,
      "outputs": []
    }
  ]
}